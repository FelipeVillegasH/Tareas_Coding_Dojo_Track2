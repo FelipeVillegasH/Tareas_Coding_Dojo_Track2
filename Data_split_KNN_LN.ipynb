{
  "nbformat": 4,
  "nbformat_minor": 0,
  "metadata": {
    "colab": {
      "name": "Data_split_KNN_LN.ipynb",
      "provenance": [],
      "collapsed_sections": [],
      "authorship_tag": "ABX9TyMfxOnW0xCUvP9dH5lmn9Bt",
      "include_colab_link": true
    },
    "kernelspec": {
      "name": "python3",
      "display_name": "Python 3"
    },
    "language_info": {
      "name": "python"
    }
  },
  "cells": [
    {
      "cell_type": "markdown",
      "metadata": {
        "id": "view-in-github",
        "colab_type": "text"
      },
      "source": [
        "<a href=\"https://colab.research.google.com/github/FelipeVillegasH/Tareas_Coding_Dojo_Track2/blob/main/Data_split_KNN_LN.ipynb\" target=\"_parent\"><img src=\"https://colab.research.google.com/assets/colab-badge.svg\" alt=\"Open In Colab\"/></a>"
      ]
    },
    {
      "cell_type": "markdown",
      "source": [
        "## Data Split Tested in Knn and Linear Regression\n",
        "# By Felipe Villegas"
      ],
      "metadata": {
        "id": "5aAEy1ENB_eX"
      }
    },
    {
      "cell_type": "code",
      "execution_count": 64,
      "metadata": {
        "id": "uK1HPIU7_fyi"
      },
      "outputs": [],
      "source": [
        "import pandas as pd\n",
        "import numpy as np\n",
        "from sklearn.preprocessing import StandardScaler\n",
        "from sklearn.datasets import load_iris\n",
        "from sklearn.neighbors import KNeighborsClassifier\n",
        "from sklearn.neighbors import KNeighborsRegressor\n",
        "from sklearn.metrics import r2_score\n",
        "from sklearn.metrics import mean_absolute_error\n",
        "from sklearn.metrics import mean_squared_error\n",
        "from sklearn.linear_model import LinearRegression"
      ]
    },
    {
      "cell_type": "code",
      "execution_count": 65,
      "metadata": {
        "colab": {
          "base_uri": "https://localhost:8080/"
        },
        "id": "hrQow0M1X0i0",
        "outputId": "86e6d910-919c-49cb-891a-ad8d031399c2"
      },
      "outputs": [
        {
          "output_type": "stream",
          "name": "stdout",
          "text": [
            "Drive already mounted at /content/drive; to attempt to forcibly remount, call drive.mount(\"/content/drive\", force_remount=True).\n"
          ]
        }
      ],
      "source": [
        "from google.colab import drive\n",
        "drive.mount('/content/drive')"
      ]
    },
    {
      "cell_type": "code",
      "source": [
        "df=pd.read_csv('/content/drive/MyDrive/CodingDojo/Track 2/Semana 5/Tareas Core/abalone.data')\n",
        "df.head()"
      ],
      "metadata": {
        "colab": {
          "base_uri": "https://localhost:8080/",
          "height": 206
        },
        "id": "Kk6jj6a8X_IV",
        "outputId": "07a060c4-de0e-4a34-b59a-9f9769c36ddd"
      },
      "execution_count": 66,
      "outputs": [
        {
          "output_type": "execute_result",
          "data": {
            "text/html": [
              "\n",
              "  <div id=\"df-324a4c04-7d4f-4799-9b12-c4511d479fd8\">\n",
              "    <div class=\"colab-df-container\">\n",
              "      <div>\n",
              "<style scoped>\n",
              "    .dataframe tbody tr th:only-of-type {\n",
              "        vertical-align: middle;\n",
              "    }\n",
              "\n",
              "    .dataframe tbody tr th {\n",
              "        vertical-align: top;\n",
              "    }\n",
              "\n",
              "    .dataframe thead th {\n",
              "        text-align: right;\n",
              "    }\n",
              "</style>\n",
              "<table border=\"1\" class=\"dataframe\">\n",
              "  <thead>\n",
              "    <tr style=\"text-align: right;\">\n",
              "      <th></th>\n",
              "      <th>M</th>\n",
              "      <th>0.455</th>\n",
              "      <th>0.365</th>\n",
              "      <th>0.095</th>\n",
              "      <th>0.514</th>\n",
              "      <th>0.2245</th>\n",
              "      <th>0.101</th>\n",
              "      <th>0.15</th>\n",
              "      <th>15</th>\n",
              "    </tr>\n",
              "  </thead>\n",
              "  <tbody>\n",
              "    <tr>\n",
              "      <th>0</th>\n",
              "      <td>M</td>\n",
              "      <td>0.350</td>\n",
              "      <td>0.265</td>\n",
              "      <td>0.090</td>\n",
              "      <td>0.2255</td>\n",
              "      <td>0.0995</td>\n",
              "      <td>0.0485</td>\n",
              "      <td>0.070</td>\n",
              "      <td>7</td>\n",
              "    </tr>\n",
              "    <tr>\n",
              "      <th>1</th>\n",
              "      <td>F</td>\n",
              "      <td>0.530</td>\n",
              "      <td>0.420</td>\n",
              "      <td>0.135</td>\n",
              "      <td>0.6770</td>\n",
              "      <td>0.2565</td>\n",
              "      <td>0.1415</td>\n",
              "      <td>0.210</td>\n",
              "      <td>9</td>\n",
              "    </tr>\n",
              "    <tr>\n",
              "      <th>2</th>\n",
              "      <td>M</td>\n",
              "      <td>0.440</td>\n",
              "      <td>0.365</td>\n",
              "      <td>0.125</td>\n",
              "      <td>0.5160</td>\n",
              "      <td>0.2155</td>\n",
              "      <td>0.1140</td>\n",
              "      <td>0.155</td>\n",
              "      <td>10</td>\n",
              "    </tr>\n",
              "    <tr>\n",
              "      <th>3</th>\n",
              "      <td>I</td>\n",
              "      <td>0.330</td>\n",
              "      <td>0.255</td>\n",
              "      <td>0.080</td>\n",
              "      <td>0.2050</td>\n",
              "      <td>0.0895</td>\n",
              "      <td>0.0395</td>\n",
              "      <td>0.055</td>\n",
              "      <td>7</td>\n",
              "    </tr>\n",
              "    <tr>\n",
              "      <th>4</th>\n",
              "      <td>I</td>\n",
              "      <td>0.425</td>\n",
              "      <td>0.300</td>\n",
              "      <td>0.095</td>\n",
              "      <td>0.3515</td>\n",
              "      <td>0.1410</td>\n",
              "      <td>0.0775</td>\n",
              "      <td>0.120</td>\n",
              "      <td>8</td>\n",
              "    </tr>\n",
              "  </tbody>\n",
              "</table>\n",
              "</div>\n",
              "      <button class=\"colab-df-convert\" onclick=\"convertToInteractive('df-324a4c04-7d4f-4799-9b12-c4511d479fd8')\"\n",
              "              title=\"Convert this dataframe to an interactive table.\"\n",
              "              style=\"display:none;\">\n",
              "        \n",
              "  <svg xmlns=\"http://www.w3.org/2000/svg\" height=\"24px\"viewBox=\"0 0 24 24\"\n",
              "       width=\"24px\">\n",
              "    <path d=\"M0 0h24v24H0V0z\" fill=\"none\"/>\n",
              "    <path d=\"M18.56 5.44l.94 2.06.94-2.06 2.06-.94-2.06-.94-.94-2.06-.94 2.06-2.06.94zm-11 1L8.5 8.5l.94-2.06 2.06-.94-2.06-.94L8.5 2.5l-.94 2.06-2.06.94zm10 10l.94 2.06.94-2.06 2.06-.94-2.06-.94-.94-2.06-.94 2.06-2.06.94z\"/><path d=\"M17.41 7.96l-1.37-1.37c-.4-.4-.92-.59-1.43-.59-.52 0-1.04.2-1.43.59L10.3 9.45l-7.72 7.72c-.78.78-.78 2.05 0 2.83L4 21.41c.39.39.9.59 1.41.59.51 0 1.02-.2 1.41-.59l7.78-7.78 2.81-2.81c.8-.78.8-2.07 0-2.86zM5.41 20L4 18.59l7.72-7.72 1.47 1.35L5.41 20z\"/>\n",
              "  </svg>\n",
              "      </button>\n",
              "      \n",
              "  <style>\n",
              "    .colab-df-container {\n",
              "      display:flex;\n",
              "      flex-wrap:wrap;\n",
              "      gap: 12px;\n",
              "    }\n",
              "\n",
              "    .colab-df-convert {\n",
              "      background-color: #E8F0FE;\n",
              "      border: none;\n",
              "      border-radius: 50%;\n",
              "      cursor: pointer;\n",
              "      display: none;\n",
              "      fill: #1967D2;\n",
              "      height: 32px;\n",
              "      padding: 0 0 0 0;\n",
              "      width: 32px;\n",
              "    }\n",
              "\n",
              "    .colab-df-convert:hover {\n",
              "      background-color: #E2EBFA;\n",
              "      box-shadow: 0px 1px 2px rgba(60, 64, 67, 0.3), 0px 1px 3px 1px rgba(60, 64, 67, 0.15);\n",
              "      fill: #174EA6;\n",
              "    }\n",
              "\n",
              "    [theme=dark] .colab-df-convert {\n",
              "      background-color: #3B4455;\n",
              "      fill: #D2E3FC;\n",
              "    }\n",
              "\n",
              "    [theme=dark] .colab-df-convert:hover {\n",
              "      background-color: #434B5C;\n",
              "      box-shadow: 0px 1px 3px 1px rgba(0, 0, 0, 0.15);\n",
              "      filter: drop-shadow(0px 1px 2px rgba(0, 0, 0, 0.3));\n",
              "      fill: #FFFFFF;\n",
              "    }\n",
              "  </style>\n",
              "\n",
              "      <script>\n",
              "        const buttonEl =\n",
              "          document.querySelector('#df-324a4c04-7d4f-4799-9b12-c4511d479fd8 button.colab-df-convert');\n",
              "        buttonEl.style.display =\n",
              "          google.colab.kernel.accessAllowed ? 'block' : 'none';\n",
              "\n",
              "        async function convertToInteractive(key) {\n",
              "          const element = document.querySelector('#df-324a4c04-7d4f-4799-9b12-c4511d479fd8');\n",
              "          const dataTable =\n",
              "            await google.colab.kernel.invokeFunction('convertToInteractive',\n",
              "                                                     [key], {});\n",
              "          if (!dataTable) return;\n",
              "\n",
              "          const docLinkHtml = 'Like what you see? Visit the ' +\n",
              "            '<a target=\"_blank\" href=https://colab.research.google.com/notebooks/data_table.ipynb>data table notebook</a>'\n",
              "            + ' to learn more about interactive tables.';\n",
              "          element.innerHTML = '';\n",
              "          dataTable['output_type'] = 'display_data';\n",
              "          await google.colab.output.renderOutput(dataTable, element);\n",
              "          const docLink = document.createElement('div');\n",
              "          docLink.innerHTML = docLinkHtml;\n",
              "          element.appendChild(docLink);\n",
              "        }\n",
              "      </script>\n",
              "    </div>\n",
              "  </div>\n",
              "  "
            ],
            "text/plain": [
              "   M  0.455  0.365  0.095   0.514  0.2245   0.101   0.15  15\n",
              "0  M  0.350  0.265  0.090  0.2255  0.0995  0.0485  0.070   7\n",
              "1  F  0.530  0.420  0.135  0.6770  0.2565  0.1415  0.210   9\n",
              "2  M  0.440  0.365  0.125  0.5160  0.2155  0.1140  0.155  10\n",
              "3  I  0.330  0.255  0.080  0.2050  0.0895  0.0395  0.055   7\n",
              "4  I  0.425  0.300  0.095  0.3515  0.1410  0.0775  0.120   8"
            ]
          },
          "metadata": {},
          "execution_count": 66
        }
      ]
    },
    {
      "cell_type": "code",
      "source": [
        "# nombres= pd.read_csv('/content/drive/MyDrive/CodingDojo/Track 2/Semana 5/Tareas Core/abalone.names', on_bad_lines='skip')\n",
        "# nombres.head()"
      ],
      "metadata": {
        "id": "0HMzRR5VaRU-"
      },
      "execution_count": 67,
      "outputs": []
    },
    {
      "cell_type": "code",
      "source": [
        "# nombres.to_numpy()\n",
        "# the names are actually explicit in the webside so we will ignore this and the previous code"
      ],
      "metadata": {
        "id": "2hbaH3hga1DA"
      },
      "execution_count": 68,
      "outputs": []
    },
    {
      "cell_type": "code",
      "source": [
        "df.isna().sum()\n",
        "# the data frame is complete"
      ],
      "metadata": {
        "colab": {
          "base_uri": "https://localhost:8080/"
        },
        "id": "qUtjHpJIYTga",
        "outputId": "14c7501d-2e63-48f0-ca1b-17fcdfc5a951"
      },
      "execution_count": 69,
      "outputs": [
        {
          "output_type": "execute_result",
          "data": {
            "text/plain": [
              "M         0\n",
              "0.455     0\n",
              "0.365     0\n",
              "0.095     0\n",
              "0.514     0\n",
              "0.2245    0\n",
              "0.101     0\n",
              "0.15      0\n",
              "15        0\n",
              "dtype: int64"
            ]
          },
          "metadata": {},
          "execution_count": 69
        }
      ]
    },
    {
      "cell_type": "code",
      "source": [
        "# Naming the columns: \n",
        "df.columns = ['Sex', 'Length(mm)', 'Diameter(mm)', 'Height(mm)', 'Whole Weight(gr)', 'Shucked Weight(gr)', 'Viscera Weight(gr)', 'Shell Weight(gr)', 'Rings']\n",
        "df.head()\n",
        "# Aditional Data about the features of the Df by column\n",
        "# Name / Data Type / Measurement Unit / Description\n",
        "\n",
        "# Sex / nominal / -- / M, F, and I (infant)\n",
        "# Length / continuous / mm / Longest shell measurement\n",
        "#Diameter / continuous / mm / perpendicular to length\n",
        "# Height / continuous / mm / with meat in shell\n",
        "# Whole weight / continuous / grams / whole abalone\n",
        "# Shucked weight / continuous / grams / weight of meat\n",
        "# Viscera weight / continuous / grams / gut weight (after bleeding)\n",
        "# Shell weight / continuous / grams / after being dried\n",
        "# Rings / integer / -- / +1.5 gives the age in years\n",
        "\n",
        "# Here We realize that we need to calculate and generate another feature column of the age by the Rings"
      ],
      "metadata": {
        "colab": {
          "base_uri": "https://localhost:8080/",
          "height": 206
        },
        "id": "TQSP3280YV7S",
        "outputId": "e9ad09ec-45bc-40a7-ba47-cfe03b77b21b"
      },
      "execution_count": 70,
      "outputs": [
        {
          "output_type": "execute_result",
          "data": {
            "text/html": [
              "\n",
              "  <div id=\"df-59f78866-76f0-49c6-9c89-c85ed8896711\">\n",
              "    <div class=\"colab-df-container\">\n",
              "      <div>\n",
              "<style scoped>\n",
              "    .dataframe tbody tr th:only-of-type {\n",
              "        vertical-align: middle;\n",
              "    }\n",
              "\n",
              "    .dataframe tbody tr th {\n",
              "        vertical-align: top;\n",
              "    }\n",
              "\n",
              "    .dataframe thead th {\n",
              "        text-align: right;\n",
              "    }\n",
              "</style>\n",
              "<table border=\"1\" class=\"dataframe\">\n",
              "  <thead>\n",
              "    <tr style=\"text-align: right;\">\n",
              "      <th></th>\n",
              "      <th>Sex</th>\n",
              "      <th>Length(mm)</th>\n",
              "      <th>Diameter(mm)</th>\n",
              "      <th>Height(mm)</th>\n",
              "      <th>Whole Weight(gr)</th>\n",
              "      <th>Shucked Weight(gr)</th>\n",
              "      <th>Viscera Weight(gr)</th>\n",
              "      <th>Shell Weight(gr)</th>\n",
              "      <th>Rings</th>\n",
              "    </tr>\n",
              "  </thead>\n",
              "  <tbody>\n",
              "    <tr>\n",
              "      <th>0</th>\n",
              "      <td>M</td>\n",
              "      <td>0.350</td>\n",
              "      <td>0.265</td>\n",
              "      <td>0.090</td>\n",
              "      <td>0.2255</td>\n",
              "      <td>0.0995</td>\n",
              "      <td>0.0485</td>\n",
              "      <td>0.070</td>\n",
              "      <td>7</td>\n",
              "    </tr>\n",
              "    <tr>\n",
              "      <th>1</th>\n",
              "      <td>F</td>\n",
              "      <td>0.530</td>\n",
              "      <td>0.420</td>\n",
              "      <td>0.135</td>\n",
              "      <td>0.6770</td>\n",
              "      <td>0.2565</td>\n",
              "      <td>0.1415</td>\n",
              "      <td>0.210</td>\n",
              "      <td>9</td>\n",
              "    </tr>\n",
              "    <tr>\n",
              "      <th>2</th>\n",
              "      <td>M</td>\n",
              "      <td>0.440</td>\n",
              "      <td>0.365</td>\n",
              "      <td>0.125</td>\n",
              "      <td>0.5160</td>\n",
              "      <td>0.2155</td>\n",
              "      <td>0.1140</td>\n",
              "      <td>0.155</td>\n",
              "      <td>10</td>\n",
              "    </tr>\n",
              "    <tr>\n",
              "      <th>3</th>\n",
              "      <td>I</td>\n",
              "      <td>0.330</td>\n",
              "      <td>0.255</td>\n",
              "      <td>0.080</td>\n",
              "      <td>0.2050</td>\n",
              "      <td>0.0895</td>\n",
              "      <td>0.0395</td>\n",
              "      <td>0.055</td>\n",
              "      <td>7</td>\n",
              "    </tr>\n",
              "    <tr>\n",
              "      <th>4</th>\n",
              "      <td>I</td>\n",
              "      <td>0.425</td>\n",
              "      <td>0.300</td>\n",
              "      <td>0.095</td>\n",
              "      <td>0.3515</td>\n",
              "      <td>0.1410</td>\n",
              "      <td>0.0775</td>\n",
              "      <td>0.120</td>\n",
              "      <td>8</td>\n",
              "    </tr>\n",
              "  </tbody>\n",
              "</table>\n",
              "</div>\n",
              "      <button class=\"colab-df-convert\" onclick=\"convertToInteractive('df-59f78866-76f0-49c6-9c89-c85ed8896711')\"\n",
              "              title=\"Convert this dataframe to an interactive table.\"\n",
              "              style=\"display:none;\">\n",
              "        \n",
              "  <svg xmlns=\"http://www.w3.org/2000/svg\" height=\"24px\"viewBox=\"0 0 24 24\"\n",
              "       width=\"24px\">\n",
              "    <path d=\"M0 0h24v24H0V0z\" fill=\"none\"/>\n",
              "    <path d=\"M18.56 5.44l.94 2.06.94-2.06 2.06-.94-2.06-.94-.94-2.06-.94 2.06-2.06.94zm-11 1L8.5 8.5l.94-2.06 2.06-.94-2.06-.94L8.5 2.5l-.94 2.06-2.06.94zm10 10l.94 2.06.94-2.06 2.06-.94-2.06-.94-.94-2.06-.94 2.06-2.06.94z\"/><path d=\"M17.41 7.96l-1.37-1.37c-.4-.4-.92-.59-1.43-.59-.52 0-1.04.2-1.43.59L10.3 9.45l-7.72 7.72c-.78.78-.78 2.05 0 2.83L4 21.41c.39.39.9.59 1.41.59.51 0 1.02-.2 1.41-.59l7.78-7.78 2.81-2.81c.8-.78.8-2.07 0-2.86zM5.41 20L4 18.59l7.72-7.72 1.47 1.35L5.41 20z\"/>\n",
              "  </svg>\n",
              "      </button>\n",
              "      \n",
              "  <style>\n",
              "    .colab-df-container {\n",
              "      display:flex;\n",
              "      flex-wrap:wrap;\n",
              "      gap: 12px;\n",
              "    }\n",
              "\n",
              "    .colab-df-convert {\n",
              "      background-color: #E8F0FE;\n",
              "      border: none;\n",
              "      border-radius: 50%;\n",
              "      cursor: pointer;\n",
              "      display: none;\n",
              "      fill: #1967D2;\n",
              "      height: 32px;\n",
              "      padding: 0 0 0 0;\n",
              "      width: 32px;\n",
              "    }\n",
              "\n",
              "    .colab-df-convert:hover {\n",
              "      background-color: #E2EBFA;\n",
              "      box-shadow: 0px 1px 2px rgba(60, 64, 67, 0.3), 0px 1px 3px 1px rgba(60, 64, 67, 0.15);\n",
              "      fill: #174EA6;\n",
              "    }\n",
              "\n",
              "    [theme=dark] .colab-df-convert {\n",
              "      background-color: #3B4455;\n",
              "      fill: #D2E3FC;\n",
              "    }\n",
              "\n",
              "    [theme=dark] .colab-df-convert:hover {\n",
              "      background-color: #434B5C;\n",
              "      box-shadow: 0px 1px 3px 1px rgba(0, 0, 0, 0.15);\n",
              "      filter: drop-shadow(0px 1px 2px rgba(0, 0, 0, 0.3));\n",
              "      fill: #FFFFFF;\n",
              "    }\n",
              "  </style>\n",
              "\n",
              "      <script>\n",
              "        const buttonEl =\n",
              "          document.querySelector('#df-59f78866-76f0-49c6-9c89-c85ed8896711 button.colab-df-convert');\n",
              "        buttonEl.style.display =\n",
              "          google.colab.kernel.accessAllowed ? 'block' : 'none';\n",
              "\n",
              "        async function convertToInteractive(key) {\n",
              "          const element = document.querySelector('#df-59f78866-76f0-49c6-9c89-c85ed8896711');\n",
              "          const dataTable =\n",
              "            await google.colab.kernel.invokeFunction('convertToInteractive',\n",
              "                                                     [key], {});\n",
              "          if (!dataTable) return;\n",
              "\n",
              "          const docLinkHtml = 'Like what you see? Visit the ' +\n",
              "            '<a target=\"_blank\" href=https://colab.research.google.com/notebooks/data_table.ipynb>data table notebook</a>'\n",
              "            + ' to learn more about interactive tables.';\n",
              "          element.innerHTML = '';\n",
              "          dataTable['output_type'] = 'display_data';\n",
              "          await google.colab.output.renderOutput(dataTable, element);\n",
              "          const docLink = document.createElement('div');\n",
              "          docLink.innerHTML = docLinkHtml;\n",
              "          element.appendChild(docLink);\n",
              "        }\n",
              "      </script>\n",
              "    </div>\n",
              "  </div>\n",
              "  "
            ],
            "text/plain": [
              "  Sex  Length(mm)  Diameter(mm)  ...  Viscera Weight(gr)  Shell Weight(gr)  Rings\n",
              "0   M       0.350         0.265  ...              0.0485             0.070      7\n",
              "1   F       0.530         0.420  ...              0.1415             0.210      9\n",
              "2   M       0.440         0.365  ...              0.1140             0.155     10\n",
              "3   I       0.330         0.255  ...              0.0395             0.055      7\n",
              "4   I       0.425         0.300  ...              0.0775             0.120      8\n",
              "\n",
              "[5 rows x 9 columns]"
            ]
          },
          "metadata": {},
          "execution_count": 70
        }
      ]
    },
    {
      "cell_type": "code",
      "source": [
        "# Afterwards we set the target variable in the df by creating the new column of the feature 'Age'\n",
        "df = df.assign(Age = lambda x: (x['Rings']+1.5))\n",
        "df.head()\n",
        "# We could also have used the method .apply which is usefull when operating with multiple rows and columns conditions \n",
        "# df.apply(lambda row: row.Rings + 1.5, axis=1)\n",
        "# and then by naming the new feature-variable-column \n",
        "# df['Age'] = df.apply(lambda row: row.Rings + 1.5, axis=1)"
      ],
      "metadata": {
        "colab": {
          "base_uri": "https://localhost:8080/",
          "height": 206
        },
        "id": "22FkjkFPcWi1",
        "outputId": "2b00dde1-a5c3-4dae-daf1-afc8fddcd4f9"
      },
      "execution_count": 71,
      "outputs": [
        {
          "output_type": "execute_result",
          "data": {
            "text/html": [
              "\n",
              "  <div id=\"df-58b1606d-96c8-49aa-afc2-5d4915bfeaa8\">\n",
              "    <div class=\"colab-df-container\">\n",
              "      <div>\n",
              "<style scoped>\n",
              "    .dataframe tbody tr th:only-of-type {\n",
              "        vertical-align: middle;\n",
              "    }\n",
              "\n",
              "    .dataframe tbody tr th {\n",
              "        vertical-align: top;\n",
              "    }\n",
              "\n",
              "    .dataframe thead th {\n",
              "        text-align: right;\n",
              "    }\n",
              "</style>\n",
              "<table border=\"1\" class=\"dataframe\">\n",
              "  <thead>\n",
              "    <tr style=\"text-align: right;\">\n",
              "      <th></th>\n",
              "      <th>Sex</th>\n",
              "      <th>Length(mm)</th>\n",
              "      <th>Diameter(mm)</th>\n",
              "      <th>Height(mm)</th>\n",
              "      <th>Whole Weight(gr)</th>\n",
              "      <th>Shucked Weight(gr)</th>\n",
              "      <th>Viscera Weight(gr)</th>\n",
              "      <th>Shell Weight(gr)</th>\n",
              "      <th>Rings</th>\n",
              "      <th>Age</th>\n",
              "    </tr>\n",
              "  </thead>\n",
              "  <tbody>\n",
              "    <tr>\n",
              "      <th>0</th>\n",
              "      <td>M</td>\n",
              "      <td>0.350</td>\n",
              "      <td>0.265</td>\n",
              "      <td>0.090</td>\n",
              "      <td>0.2255</td>\n",
              "      <td>0.0995</td>\n",
              "      <td>0.0485</td>\n",
              "      <td>0.070</td>\n",
              "      <td>7</td>\n",
              "      <td>8.5</td>\n",
              "    </tr>\n",
              "    <tr>\n",
              "      <th>1</th>\n",
              "      <td>F</td>\n",
              "      <td>0.530</td>\n",
              "      <td>0.420</td>\n",
              "      <td>0.135</td>\n",
              "      <td>0.6770</td>\n",
              "      <td>0.2565</td>\n",
              "      <td>0.1415</td>\n",
              "      <td>0.210</td>\n",
              "      <td>9</td>\n",
              "      <td>10.5</td>\n",
              "    </tr>\n",
              "    <tr>\n",
              "      <th>2</th>\n",
              "      <td>M</td>\n",
              "      <td>0.440</td>\n",
              "      <td>0.365</td>\n",
              "      <td>0.125</td>\n",
              "      <td>0.5160</td>\n",
              "      <td>0.2155</td>\n",
              "      <td>0.1140</td>\n",
              "      <td>0.155</td>\n",
              "      <td>10</td>\n",
              "      <td>11.5</td>\n",
              "    </tr>\n",
              "    <tr>\n",
              "      <th>3</th>\n",
              "      <td>I</td>\n",
              "      <td>0.330</td>\n",
              "      <td>0.255</td>\n",
              "      <td>0.080</td>\n",
              "      <td>0.2050</td>\n",
              "      <td>0.0895</td>\n",
              "      <td>0.0395</td>\n",
              "      <td>0.055</td>\n",
              "      <td>7</td>\n",
              "      <td>8.5</td>\n",
              "    </tr>\n",
              "    <tr>\n",
              "      <th>4</th>\n",
              "      <td>I</td>\n",
              "      <td>0.425</td>\n",
              "      <td>0.300</td>\n",
              "      <td>0.095</td>\n",
              "      <td>0.3515</td>\n",
              "      <td>0.1410</td>\n",
              "      <td>0.0775</td>\n",
              "      <td>0.120</td>\n",
              "      <td>8</td>\n",
              "      <td>9.5</td>\n",
              "    </tr>\n",
              "  </tbody>\n",
              "</table>\n",
              "</div>\n",
              "      <button class=\"colab-df-convert\" onclick=\"convertToInteractive('df-58b1606d-96c8-49aa-afc2-5d4915bfeaa8')\"\n",
              "              title=\"Convert this dataframe to an interactive table.\"\n",
              "              style=\"display:none;\">\n",
              "        \n",
              "  <svg xmlns=\"http://www.w3.org/2000/svg\" height=\"24px\"viewBox=\"0 0 24 24\"\n",
              "       width=\"24px\">\n",
              "    <path d=\"M0 0h24v24H0V0z\" fill=\"none\"/>\n",
              "    <path d=\"M18.56 5.44l.94 2.06.94-2.06 2.06-.94-2.06-.94-.94-2.06-.94 2.06-2.06.94zm-11 1L8.5 8.5l.94-2.06 2.06-.94-2.06-.94L8.5 2.5l-.94 2.06-2.06.94zm10 10l.94 2.06.94-2.06 2.06-.94-2.06-.94-.94-2.06-.94 2.06-2.06.94z\"/><path d=\"M17.41 7.96l-1.37-1.37c-.4-.4-.92-.59-1.43-.59-.52 0-1.04.2-1.43.59L10.3 9.45l-7.72 7.72c-.78.78-.78 2.05 0 2.83L4 21.41c.39.39.9.59 1.41.59.51 0 1.02-.2 1.41-.59l7.78-7.78 2.81-2.81c.8-.78.8-2.07 0-2.86zM5.41 20L4 18.59l7.72-7.72 1.47 1.35L5.41 20z\"/>\n",
              "  </svg>\n",
              "      </button>\n",
              "      \n",
              "  <style>\n",
              "    .colab-df-container {\n",
              "      display:flex;\n",
              "      flex-wrap:wrap;\n",
              "      gap: 12px;\n",
              "    }\n",
              "\n",
              "    .colab-df-convert {\n",
              "      background-color: #E8F0FE;\n",
              "      border: none;\n",
              "      border-radius: 50%;\n",
              "      cursor: pointer;\n",
              "      display: none;\n",
              "      fill: #1967D2;\n",
              "      height: 32px;\n",
              "      padding: 0 0 0 0;\n",
              "      width: 32px;\n",
              "    }\n",
              "\n",
              "    .colab-df-convert:hover {\n",
              "      background-color: #E2EBFA;\n",
              "      box-shadow: 0px 1px 2px rgba(60, 64, 67, 0.3), 0px 1px 3px 1px rgba(60, 64, 67, 0.15);\n",
              "      fill: #174EA6;\n",
              "    }\n",
              "\n",
              "    [theme=dark] .colab-df-convert {\n",
              "      background-color: #3B4455;\n",
              "      fill: #D2E3FC;\n",
              "    }\n",
              "\n",
              "    [theme=dark] .colab-df-convert:hover {\n",
              "      background-color: #434B5C;\n",
              "      box-shadow: 0px 1px 3px 1px rgba(0, 0, 0, 0.15);\n",
              "      filter: drop-shadow(0px 1px 2px rgba(0, 0, 0, 0.3));\n",
              "      fill: #FFFFFF;\n",
              "    }\n",
              "  </style>\n",
              "\n",
              "      <script>\n",
              "        const buttonEl =\n",
              "          document.querySelector('#df-58b1606d-96c8-49aa-afc2-5d4915bfeaa8 button.colab-df-convert');\n",
              "        buttonEl.style.display =\n",
              "          google.colab.kernel.accessAllowed ? 'block' : 'none';\n",
              "\n",
              "        async function convertToInteractive(key) {\n",
              "          const element = document.querySelector('#df-58b1606d-96c8-49aa-afc2-5d4915bfeaa8');\n",
              "          const dataTable =\n",
              "            await google.colab.kernel.invokeFunction('convertToInteractive',\n",
              "                                                     [key], {});\n",
              "          if (!dataTable) return;\n",
              "\n",
              "          const docLinkHtml = 'Like what you see? Visit the ' +\n",
              "            '<a target=\"_blank\" href=https://colab.research.google.com/notebooks/data_table.ipynb>data table notebook</a>'\n",
              "            + ' to learn more about interactive tables.';\n",
              "          element.innerHTML = '';\n",
              "          dataTable['output_type'] = 'display_data';\n",
              "          await google.colab.output.renderOutput(dataTable, element);\n",
              "          const docLink = document.createElement('div');\n",
              "          docLink.innerHTML = docLinkHtml;\n",
              "          element.appendChild(docLink);\n",
              "        }\n",
              "      </script>\n",
              "    </div>\n",
              "  </div>\n",
              "  "
            ],
            "text/plain": [
              "  Sex  Length(mm)  Diameter(mm)  ...  Shell Weight(gr)  Rings   Age\n",
              "0   M       0.350         0.265  ...             0.070      7   8.5\n",
              "1   F       0.530         0.420  ...             0.210      9  10.5\n",
              "2   M       0.440         0.365  ...             0.155     10  11.5\n",
              "3   I       0.330         0.255  ...             0.055      7   8.5\n",
              "4   I       0.425         0.300  ...             0.120      8   9.5\n",
              "\n",
              "[5 rows x 10 columns]"
            ]
          },
          "metadata": {},
          "execution_count": 71
        }
      ]
    },
    {
      "cell_type": "code",
      "source": [
        "df.info()"
      ],
      "metadata": {
        "colab": {
          "base_uri": "https://localhost:8080/"
        },
        "id": "2dOPX13nX3tX",
        "outputId": "9ffc9a09-e441-471f-fba4-563d53f9c318"
      },
      "execution_count": 72,
      "outputs": [
        {
          "output_type": "stream",
          "name": "stdout",
          "text": [
            "<class 'pandas.core.frame.DataFrame'>\n",
            "RangeIndex: 4176 entries, 0 to 4175\n",
            "Data columns (total 10 columns):\n",
            " #   Column              Non-Null Count  Dtype  \n",
            "---  ------              --------------  -----  \n",
            " 0   Sex                 4176 non-null   object \n",
            " 1   Length(mm)          4176 non-null   float64\n",
            " 2   Diameter(mm)        4176 non-null   float64\n",
            " 3   Height(mm)          4176 non-null   float64\n",
            " 4   Whole Weight(gr)    4176 non-null   float64\n",
            " 5   Shucked Weight(gr)  4176 non-null   float64\n",
            " 6   Viscera Weight(gr)  4176 non-null   float64\n",
            " 7   Shell Weight(gr)    4176 non-null   float64\n",
            " 8   Rings               4176 non-null   int64  \n",
            " 9   Age                 4176 non-null   float64\n",
            "dtypes: float64(8), int64(1), object(1)\n",
            "memory usage: 326.4+ KB\n"
          ]
        }
      ]
    },
    {
      "cell_type": "markdown",
      "source": [
        "# KNN Age Prediction Without Split"
      ],
      "metadata": {
        "id": "Z3yGLluMPhFH"
      }
    },
    {
      "cell_type": "code",
      "source": [
        "# Selection of the training data base, its important to only select the cuantitavie variables\n",
        "AgeFeatures= ['Length(mm)',\n",
        "               'Diameter(mm)',\n",
        "               'Height(mm)',\n",
        "               'Whole Weight(gr)',\n",
        "               'Shucked Weight(gr)',\n",
        "               'Viscera Weight(gr)',\n",
        "               'Shell Weight(gr)']\n",
        "XAge = df.loc[:, AgeFeatures].to_numpy()"
      ],
      "metadata": {
        "id": "ERL9GEIGjp4h"
      },
      "execution_count": 73,
      "outputs": []
    },
    {
      "cell_type": "code",
      "source": [
        "XAge.shape"
      ],
      "metadata": {
        "colab": {
          "base_uri": "https://localhost:8080/"
        },
        "id": "JSYjvdZ7o0Sg",
        "outputId": "19b7e8ca-9a29-4f6a-d8fb-0f914d6bbbd6"
      },
      "execution_count": 74,
      "outputs": [
        {
          "output_type": "execute_result",
          "data": {
            "text/plain": [
              "(4176, 7)"
            ]
          },
          "metadata": {},
          "execution_count": 74
        }
      ]
    },
    {
      "cell_type": "code",
      "source": [
        "# Assigning of the target vector y: \n",
        "# Do not mistake to add  extra [] to name the column of the target\n",
        "yAge = df.loc[:, 'Age'].to_numpy()\n",
        "yAge.shape"
      ],
      "metadata": {
        "colab": {
          "base_uri": "https://localhost:8080/"
        },
        "id": "qV-5_FZXo-6D",
        "outputId": "66f0d7e4-c1c6-4bd1-b5eb-bc2f45565a8b"
      },
      "execution_count": 75,
      "outputs": [
        {
          "output_type": "execute_result",
          "data": {
            "text/plain": [
              "(4176,)"
            ]
          },
          "metadata": {},
          "execution_count": 75
        }
      ]
    },
    {
      "cell_type": "code",
      "source": [
        "# we Scalate XAge\n",
        "from sklearn.preprocessing import StandardScaler\n",
        "scaler = StandardScaler()\n",
        "scaler.fit(XAge)\n",
        "# Transform XAge\n",
        "XAge = scaler.transform(XAge);"
      ],
      "metadata": {
        "id": "BgTDi-0FpeK1"
      },
      "execution_count": 76,
      "outputs": []
    },
    {
      "cell_type": "code",
      "source": [
        "# We assign the KNN model to a variable\n",
        "KnnAge = KNeighborsRegressor(n_neighbors=5)\n",
        "print(KnnAge)"
      ],
      "metadata": {
        "colab": {
          "base_uri": "https://localhost:8080/"
        },
        "id": "6nDFqp_xzBmt",
        "outputId": "18f0fb07-ea6a-4438-a73c-fb3085d8defc"
      },
      "execution_count": 77,
      "outputs": [
        {
          "output_type": "stream",
          "name": "stdout",
          "text": [
            "KNeighborsRegressor()\n"
          ]
        }
      ]
    },
    {
      "cell_type": "code",
      "source": [
        "# Training the prediction model\n",
        "KnnAge.fit(XAge, yAge)"
      ],
      "metadata": {
        "colab": {
          "base_uri": "https://localhost:8080/"
        },
        "id": "cRPu2TAJ0Vcy",
        "outputId": "debe7a80-8fed-4790-af1c-06816f563cb0"
      },
      "execution_count": 78,
      "outputs": [
        {
          "output_type": "execute_result",
          "data": {
            "text/plain": [
              "KNeighborsRegressor()"
            ]
          },
          "metadata": {},
          "execution_count": 78
        }
      ]
    },
    {
      "cell_type": "code",
      "source": [
        "# Then we execute the prediction with: knn.predict(XAge) but to actually see the predictions we need to assign the results to a variable\n",
        "PredictedAges= KnnAge.predict(XAge)\n",
        "PredictedAges"
      ],
      "metadata": {
        "colab": {
          "base_uri": "https://localhost:8080/"
        },
        "id": "Y-dtIPRT0u84",
        "outputId": "0d930d92-5486-454c-85c8-2b259179f23b"
      },
      "execution_count": 79,
      "outputs": [
        {
          "output_type": "execute_result",
          "data": {
            "text/plain": [
              "array([ 8.5, 11.1, 10.9, ..., 12.5, 11.5, 12.7])"
            ]
          },
          "metadata": {},
          "execution_count": 79
        }
      ]
    },
    {
      "cell_type": "code",
      "source": [
        "score = KnnAge.score(XAge, yAge)\n",
        "score\n",
        "# the 65.8% of the Variation in the Age is due to the Features selected in the XAge training matrix "
      ],
      "metadata": {
        "colab": {
          "base_uri": "https://localhost:8080/"
        },
        "id": "viBMMTLN1Xbl",
        "outputId": "535ff1d7-d8de-4bc9-9143-26f72fdf014f"
      },
      "execution_count": 80,
      "outputs": [
        {
          "output_type": "execute_result",
          "data": {
            "text/plain": [
              "0.6582492859136977"
            ]
          },
          "metadata": {},
          "execution_count": 80
        }
      ]
    },
    {
      "cell_type": "code",
      "source": [
        "mean_absolute_error(yAge, PredictedAges)"
      ],
      "metadata": {
        "colab": {
          "base_uri": "https://localhost:8080/"
        },
        "outputId": "9423700a-5f0c-4cfa-def7-00c601ddcea5",
        "id": "jv_VYe4x5SjT"
      },
      "execution_count": 81,
      "outputs": [
        {
          "output_type": "execute_result",
          "data": {
            "text/plain": [
              "1.3319444444444444"
            ]
          },
          "metadata": {},
          "execution_count": 81
        }
      ]
    },
    {
      "cell_type": "code",
      "source": [
        "mean_squared_error(yAge, KnnAge.predict(XAge))"
      ],
      "metadata": {
        "colab": {
          "base_uri": "https://localhost:8080/"
        },
        "outputId": "20f3b1f5-d3a3-4e69-fb57-46c1f308f4e1",
        "id": "gjiL4WTu5Sji"
      },
      "execution_count": 82,
      "outputs": [
        {
          "output_type": "execute_result",
          "data": {
            "text/plain": [
              "3.5504885057471265"
            ]
          },
          "metadata": {},
          "execution_count": 82
        }
      ]
    },
    {
      "cell_type": "code",
      "source": [
        "np.sqrt(mean_squared_error(yAge,KnnAge.predict(XAge)))"
      ],
      "metadata": {
        "colab": {
          "base_uri": "https://localhost:8080/"
        },
        "outputId": "b0acdaf1-98de-4098-d1bb-fb9d6ca5441f",
        "id": "ofhgxhLj5Sji"
      },
      "execution_count": 83,
      "outputs": [
        {
          "output_type": "execute_result",
          "data": {
            "text/plain": [
              "1.8842739996473779"
            ]
          },
          "metadata": {},
          "execution_count": 83
        }
      ]
    },
    {
      "cell_type": "markdown",
      "source": [
        "# Linear Regression Age Prediction Without Split"
      ],
      "metadata": {
        "id": "LptIwlcfPk93"
      }
    },
    {
      "cell_type": "code",
      "source": [
        "# Checking the Shape of the Df \n",
        "df.shape"
      ],
      "metadata": {
        "colab": {
          "base_uri": "https://localhost:8080/"
        },
        "id": "c7M76AcUF4OJ",
        "outputId": "4c3a76fb-b63b-40ba-b3ac-64bc5e11a4c5"
      },
      "execution_count": 84,
      "outputs": [
        {
          "output_type": "execute_result",
          "data": {
            "text/plain": [
              "(4176, 10)"
            ]
          },
          "metadata": {},
          "execution_count": 84
        }
      ]
    },
    {
      "cell_type": "code",
      "source": [
        "# We also check the changes made by calling the Nan Values\n",
        "df.isna().sum()\n",
        "# At this point we can conclude that the df is already cleaned "
      ],
      "metadata": {
        "colab": {
          "base_uri": "https://localhost:8080/"
        },
        "id": "R1S-rI-3GwcM",
        "outputId": "c4a97e08-db7b-4719-d3e6-58c7866cba41"
      },
      "execution_count": 85,
      "outputs": [
        {
          "output_type": "execute_result",
          "data": {
            "text/plain": [
              "Sex                   0\n",
              "Length(mm)            0\n",
              "Diameter(mm)          0\n",
              "Height(mm)            0\n",
              "Whole Weight(gr)      0\n",
              "Shucked Weight(gr)    0\n",
              "Viscera Weight(gr)    0\n",
              "Shell Weight(gr)      0\n",
              "Rings                 0\n",
              "Age                   0\n",
              "dtype: int64"
            ]
          },
          "metadata": {},
          "execution_count": 85
        }
      ]
    },
    {
      "cell_type": "code",
      "source": [
        "# Furthermore we check for the correlation of the variables in order to adress which of them are going to be usefull for our analysis \n",
        "df.corr()\n",
        "# And Sort the values in order to make it more friendly to the eyesight analysis\n",
        "df.corr().sort_values(by = ['Age'])"
      ],
      "metadata": {
        "colab": {
          "base_uri": "https://localhost:8080/",
          "height": 410
        },
        "id": "DuYCYHBOHSt0",
        "outputId": "8c6742e0-9cd3-4d36-ff7f-9d7cca6f54b8"
      },
      "execution_count": 86,
      "outputs": [
        {
          "output_type": "execute_result",
          "data": {
            "text/html": [
              "\n",
              "  <div id=\"df-74d25def-3012-4b33-b6bc-94d0b4b28b86\">\n",
              "    <div class=\"colab-df-container\">\n",
              "      <div>\n",
              "<style scoped>\n",
              "    .dataframe tbody tr th:only-of-type {\n",
              "        vertical-align: middle;\n",
              "    }\n",
              "\n",
              "    .dataframe tbody tr th {\n",
              "        vertical-align: top;\n",
              "    }\n",
              "\n",
              "    .dataframe thead th {\n",
              "        text-align: right;\n",
              "    }\n",
              "</style>\n",
              "<table border=\"1\" class=\"dataframe\">\n",
              "  <thead>\n",
              "    <tr style=\"text-align: right;\">\n",
              "      <th></th>\n",
              "      <th>Length(mm)</th>\n",
              "      <th>Diameter(mm)</th>\n",
              "      <th>Height(mm)</th>\n",
              "      <th>Whole Weight(gr)</th>\n",
              "      <th>Shucked Weight(gr)</th>\n",
              "      <th>Viscera Weight(gr)</th>\n",
              "      <th>Shell Weight(gr)</th>\n",
              "      <th>Rings</th>\n",
              "      <th>Age</th>\n",
              "    </tr>\n",
              "  </thead>\n",
              "  <tbody>\n",
              "    <tr>\n",
              "      <th>Shucked Weight(gr)</th>\n",
              "      <td>0.897905</td>\n",
              "      <td>0.893159</td>\n",
              "      <td>0.774957</td>\n",
              "      <td>0.969403</td>\n",
              "      <td>1.000000</td>\n",
              "      <td>0.931956</td>\n",
              "      <td>0.882606</td>\n",
              "      <td>0.421256</td>\n",
              "      <td>0.421256</td>\n",
              "    </tr>\n",
              "    <tr>\n",
              "      <th>Viscera Weight(gr)</th>\n",
              "      <td>0.903010</td>\n",
              "      <td>0.899726</td>\n",
              "      <td>0.798293</td>\n",
              "      <td>0.966372</td>\n",
              "      <td>0.931956</td>\n",
              "      <td>1.000000</td>\n",
              "      <td>0.907647</td>\n",
              "      <td>0.504274</td>\n",
              "      <td>0.504274</td>\n",
              "    </tr>\n",
              "    <tr>\n",
              "      <th>Whole Weight(gr)</th>\n",
              "      <td>0.925255</td>\n",
              "      <td>0.925452</td>\n",
              "      <td>0.819209</td>\n",
              "      <td>1.000000</td>\n",
              "      <td>0.969403</td>\n",
              "      <td>0.966372</td>\n",
              "      <td>0.955351</td>\n",
              "      <td>0.540818</td>\n",
              "      <td>0.540818</td>\n",
              "    </tr>\n",
              "    <tr>\n",
              "      <th>Length(mm)</th>\n",
              "      <td>1.000000</td>\n",
              "      <td>0.986813</td>\n",
              "      <td>0.827552</td>\n",
              "      <td>0.925255</td>\n",
              "      <td>0.897905</td>\n",
              "      <td>0.903010</td>\n",
              "      <td>0.897697</td>\n",
              "      <td>0.557123</td>\n",
              "      <td>0.557123</td>\n",
              "    </tr>\n",
              "    <tr>\n",
              "      <th>Height(mm)</th>\n",
              "      <td>0.827552</td>\n",
              "      <td>0.833705</td>\n",
              "      <td>1.000000</td>\n",
              "      <td>0.819209</td>\n",
              "      <td>0.774957</td>\n",
              "      <td>0.798293</td>\n",
              "      <td>0.817326</td>\n",
              "      <td>0.558109</td>\n",
              "      <td>0.558109</td>\n",
              "    </tr>\n",
              "    <tr>\n",
              "      <th>Diameter(mm)</th>\n",
              "      <td>0.986813</td>\n",
              "      <td>1.000000</td>\n",
              "      <td>0.833705</td>\n",
              "      <td>0.925452</td>\n",
              "      <td>0.893159</td>\n",
              "      <td>0.899726</td>\n",
              "      <td>0.905328</td>\n",
              "      <td>0.575005</td>\n",
              "      <td>0.575005</td>\n",
              "    </tr>\n",
              "    <tr>\n",
              "      <th>Shell Weight(gr)</th>\n",
              "      <td>0.897697</td>\n",
              "      <td>0.905328</td>\n",
              "      <td>0.817326</td>\n",
              "      <td>0.955351</td>\n",
              "      <td>0.882606</td>\n",
              "      <td>0.907647</td>\n",
              "      <td>1.000000</td>\n",
              "      <td>0.628031</td>\n",
              "      <td>0.628031</td>\n",
              "    </tr>\n",
              "    <tr>\n",
              "      <th>Rings</th>\n",
              "      <td>0.557123</td>\n",
              "      <td>0.575005</td>\n",
              "      <td>0.558109</td>\n",
              "      <td>0.540818</td>\n",
              "      <td>0.421256</td>\n",
              "      <td>0.504274</td>\n",
              "      <td>0.628031</td>\n",
              "      <td>1.000000</td>\n",
              "      <td>1.000000</td>\n",
              "    </tr>\n",
              "    <tr>\n",
              "      <th>Age</th>\n",
              "      <td>0.557123</td>\n",
              "      <td>0.575005</td>\n",
              "      <td>0.558109</td>\n",
              "      <td>0.540818</td>\n",
              "      <td>0.421256</td>\n",
              "      <td>0.504274</td>\n",
              "      <td>0.628031</td>\n",
              "      <td>1.000000</td>\n",
              "      <td>1.000000</td>\n",
              "    </tr>\n",
              "  </tbody>\n",
              "</table>\n",
              "</div>\n",
              "      <button class=\"colab-df-convert\" onclick=\"convertToInteractive('df-74d25def-3012-4b33-b6bc-94d0b4b28b86')\"\n",
              "              title=\"Convert this dataframe to an interactive table.\"\n",
              "              style=\"display:none;\">\n",
              "        \n",
              "  <svg xmlns=\"http://www.w3.org/2000/svg\" height=\"24px\"viewBox=\"0 0 24 24\"\n",
              "       width=\"24px\">\n",
              "    <path d=\"M0 0h24v24H0V0z\" fill=\"none\"/>\n",
              "    <path d=\"M18.56 5.44l.94 2.06.94-2.06 2.06-.94-2.06-.94-.94-2.06-.94 2.06-2.06.94zm-11 1L8.5 8.5l.94-2.06 2.06-.94-2.06-.94L8.5 2.5l-.94 2.06-2.06.94zm10 10l.94 2.06.94-2.06 2.06-.94-2.06-.94-.94-2.06-.94 2.06-2.06.94z\"/><path d=\"M17.41 7.96l-1.37-1.37c-.4-.4-.92-.59-1.43-.59-.52 0-1.04.2-1.43.59L10.3 9.45l-7.72 7.72c-.78.78-.78 2.05 0 2.83L4 21.41c.39.39.9.59 1.41.59.51 0 1.02-.2 1.41-.59l7.78-7.78 2.81-2.81c.8-.78.8-2.07 0-2.86zM5.41 20L4 18.59l7.72-7.72 1.47 1.35L5.41 20z\"/>\n",
              "  </svg>\n",
              "      </button>\n",
              "      \n",
              "  <style>\n",
              "    .colab-df-container {\n",
              "      display:flex;\n",
              "      flex-wrap:wrap;\n",
              "      gap: 12px;\n",
              "    }\n",
              "\n",
              "    .colab-df-convert {\n",
              "      background-color: #E8F0FE;\n",
              "      border: none;\n",
              "      border-radius: 50%;\n",
              "      cursor: pointer;\n",
              "      display: none;\n",
              "      fill: #1967D2;\n",
              "      height: 32px;\n",
              "      padding: 0 0 0 0;\n",
              "      width: 32px;\n",
              "    }\n",
              "\n",
              "    .colab-df-convert:hover {\n",
              "      background-color: #E2EBFA;\n",
              "      box-shadow: 0px 1px 2px rgba(60, 64, 67, 0.3), 0px 1px 3px 1px rgba(60, 64, 67, 0.15);\n",
              "      fill: #174EA6;\n",
              "    }\n",
              "\n",
              "    [theme=dark] .colab-df-convert {\n",
              "      background-color: #3B4455;\n",
              "      fill: #D2E3FC;\n",
              "    }\n",
              "\n",
              "    [theme=dark] .colab-df-convert:hover {\n",
              "      background-color: #434B5C;\n",
              "      box-shadow: 0px 1px 3px 1px rgba(0, 0, 0, 0.15);\n",
              "      filter: drop-shadow(0px 1px 2px rgba(0, 0, 0, 0.3));\n",
              "      fill: #FFFFFF;\n",
              "    }\n",
              "  </style>\n",
              "\n",
              "      <script>\n",
              "        const buttonEl =\n",
              "          document.querySelector('#df-74d25def-3012-4b33-b6bc-94d0b4b28b86 button.colab-df-convert');\n",
              "        buttonEl.style.display =\n",
              "          google.colab.kernel.accessAllowed ? 'block' : 'none';\n",
              "\n",
              "        async function convertToInteractive(key) {\n",
              "          const element = document.querySelector('#df-74d25def-3012-4b33-b6bc-94d0b4b28b86');\n",
              "          const dataTable =\n",
              "            await google.colab.kernel.invokeFunction('convertToInteractive',\n",
              "                                                     [key], {});\n",
              "          if (!dataTable) return;\n",
              "\n",
              "          const docLinkHtml = 'Like what you see? Visit the ' +\n",
              "            '<a target=\"_blank\" href=https://colab.research.google.com/notebooks/data_table.ipynb>data table notebook</a>'\n",
              "            + ' to learn more about interactive tables.';\n",
              "          element.innerHTML = '';\n",
              "          dataTable['output_type'] = 'display_data';\n",
              "          await google.colab.output.renderOutput(dataTable, element);\n",
              "          const docLink = document.createElement('div');\n",
              "          docLink.innerHTML = docLinkHtml;\n",
              "          element.appendChild(docLink);\n",
              "        }\n",
              "      </script>\n",
              "    </div>\n",
              "  </div>\n",
              "  "
            ],
            "text/plain": [
              "                    Length(mm)  Diameter(mm)  ...     Rings       Age\n",
              "Shucked Weight(gr)    0.897905      0.893159  ...  0.421256  0.421256\n",
              "Viscera Weight(gr)    0.903010      0.899726  ...  0.504274  0.504274\n",
              "Whole Weight(gr)      0.925255      0.925452  ...  0.540818  0.540818\n",
              "Length(mm)            1.000000      0.986813  ...  0.557123  0.557123\n",
              "Height(mm)            0.827552      0.833705  ...  0.558109  0.558109\n",
              "Diameter(mm)          0.986813      1.000000  ...  0.575005  0.575005\n",
              "Shell Weight(gr)      0.897697      0.905328  ...  0.628031  0.628031\n",
              "Rings                 0.557123      0.575005  ...  1.000000  1.000000\n",
              "Age                   0.557123      0.575005  ...  1.000000  1.000000\n",
              "\n",
              "[9 rows x 9 columns]"
            ]
          },
          "metadata": {},
          "execution_count": 86
        }
      ]
    },
    {
      "cell_type": "code",
      "source": [
        "import seaborn as sns\n",
        "import matplotlib.pyplot as plt"
      ],
      "metadata": {
        "id": "MYW-JV_uE7dl"
      },
      "execution_count": 87,
      "outputs": []
    },
    {
      "cell_type": "code",
      "source": [
        "# To visualize better\n",
        "sns.heatmap(df.corr().sort_values(by = ['Age']), cmap = sns.diverging_palette(240, 10, n=9),\n",
        "            annot=True)"
      ],
      "metadata": {
        "colab": {
          "base_uri": "https://localhost:8080/",
          "height": 376
        },
        "id": "BM6Ws259H1n4",
        "outputId": "ba61f6bd-2482-454e-dd4d-de3768fdfd16"
      },
      "execution_count": 88,
      "outputs": [
        {
          "output_type": "execute_result",
          "data": {
            "text/plain": [
              "<matplotlib.axes._subplots.AxesSubplot at 0x7f80ee61a110>"
            ]
          },
          "metadata": {},
          "execution_count": 88
        },
        {
          "output_type": "display_data",
          "data": {
            "image/png": "[encoded data removed]",
            "text/plain": [
              "<Figure size 432x288 with 2 Axes>"
            ]
          },
          "metadata": {
            "needs_background": "light"
          }
        }
      ]
    },
    {
      "cell_type": "code",
      "source": [
        "# then we check for unusual values in the df with a graphic analysis by using histograms\n",
        "df.loc[:,:].hist(bins=25,\n",
        "                 figsize=(16,16),\n",
        "                 xlabelsize='10',\n",
        "                 ylabelsize='10',xrot=-15);\n",
        "# We realize that there are atypical values at the price (negative prices) so there is a problem to solve"
      ],
      "metadata": {
        "colab": {
          "base_uri": "https://localhost:8080/",
          "height": 937
        },
        "id": "1eRbaCIbH9PM",
        "outputId": "d26a5c5e-92f8-40df-d30d-658f67cff376"
      },
      "execution_count": 89,
      "outputs": [
        {
          "output_type": "display_data",
          "data": {
            "image/png": "[encoded data removed]",
            "text/plain": [
              "<Figure size 1152x1152 with 9 Axes>"
            ]
          },
          "metadata": {
            "needs_background": "light"
          }
        }
      ]
    },
    {
      "cell_type": "code",
      "source": [
        "# Create the instance \n",
        "Regression = LinearRegression(fit_intercept=True)\n",
        "# then execute the model for it to learn about the relation between X and y \n",
        "Regression.fit(XAge,yAge)"
      ],
      "metadata": {
        "colab": {
          "base_uri": "https://localhost:8080/"
        },
        "id": "3hsUD98PK5sW",
        "outputId": "cb66f091-587b-49e3-a48f-b96a36eeb75b"
      },
      "execution_count": 90,
      "outputs": [
        {
          "output_type": "execute_result",
          "data": {
            "text/plain": [
              "LinearRegression()"
            ]
          },
          "metadata": {},
          "execution_count": 90
        }
      ]
    },
    {
      "cell_type": "markdown",
      "source": [
        "# Now we predict"
      ],
      "metadata": {
        "id": "0oZXOD74L1ni"
      }
    },
    {
      "cell_type": "code",
      "source": [
        "# this returns us the result of what will the price be by the change of one unit on each of the variables\n",
        "# here the Model learns the parameters to define the linear ecuation that we graphic before and will help us predict future values\n",
        "Regression.predict(XAge[0].reshape(-1,7))\n",
        "# -1 infer the number of rows\n",
        "# in the reshape step we need to tell the model the shape of the array in order for it to predict, otherwise, it will consider a one feature array \n",
        "# and shoot an error cause we actually inserted a 7 feature array "
      ],
      "metadata": {
        "colab": {
          "base_uri": "https://localhost:8080/"
        },
        "id": "dfBfQW_fLzVT",
        "outputId": "fd9f07c9-10a5-4c56-e5d6-c0fb2917cfec"
      },
      "execution_count": 91,
      "outputs": [
        {
          "output_type": "execute_result",
          "data": {
            "text/plain": [
              "array([8.73511859])"
            ]
          },
          "metadata": {},
          "execution_count": 91
        }
      ]
    },
    {
      "cell_type": "code",
      "source": [
        "# This returns us an array of what the prices would be in the first 10 samples\n",
        "Regression.predict(XAge[0:10])"
      ],
      "metadata": {
        "colab": {
          "base_uri": "https://localhost:8080/"
        },
        "id": "SLkS5hMpNxxl",
        "outputId": "caca150e-deff-4267-fa4d-62e01f432be3"
      },
      "execution_count": 92,
      "outputs": [
        {
          "output_type": "execute_result",
          "data": {
            "text/plain": [
              "array([ 8.73511859, 12.34265211, 10.76886354,  8.48590333,  9.61576227,\n",
              "       14.80799311, 12.70115089, 10.80255542, 14.4450575 , 12.43216067])"
            ]
          },
          "metadata": {},
          "execution_count": 92
        }
      ]
    },
    {
      "cell_type": "code",
      "source": [
        "# Then we calculate the R squared to understand how accurate is our model to predict, this value oscilates between 0 and one \n",
        "# being one the best possible model to predict\n",
        "score = Regression.score(XAge, yAge)\n",
        "print(score)"
      ],
      "metadata": {
        "colab": {
          "base_uri": "https://localhost:8080/"
        },
        "id": "s8XJxlAbOX5N",
        "outputId": "8ffead52-7407-4b2d-f896-c4ea9bfe09ed"
      },
      "execution_count": 93,
      "outputs": [
        {
          "output_type": "stream",
          "name": "stdout",
          "text": [
            "0.5282432555640287\n"
          ]
        }
      ]
    },
    {
      "cell_type": "code",
      "source": [
        "# returns the slope of each evaluated X\n",
        "Regression.coef_\n",
        "# underscore means that you cant access the attribute until after the model is already fitted"
      ],
      "metadata": {
        "colab": {
          "base_uri": "https://localhost:8080/"
        },
        "id": "LjYXpAY_QfVJ",
        "outputId": "c1fb5b90-f68a-4e52-9429-ce54dc0ada40"
      },
      "execution_count": 94,
      "outputs": [
        {
          "output_type": "execute_result",
          "data": {
            "text/plain": [
              "array([-0.18155692,  1.31575348,  0.49768953,  4.53093091, -4.48542206,\n",
              "       -1.07503248,  1.19527956])"
            ]
          },
          "metadata": {},
          "execution_count": 94
        }
      ]
    },
    {
      "cell_type": "code",
      "source": [
        "Regression.intercept_"
      ],
      "metadata": {
        "colab": {
          "base_uri": "https://localhost:8080/"
        },
        "id": "Yld0z-a-Qm7Z",
        "outputId": "8975a3ad-1268-424e-d85d-fc2df3c39a0b"
      },
      "execution_count": 95,
      "outputs": [
        {
          "output_type": "execute_result",
          "data": {
            "text/plain": [
              "11.432471264367814"
            ]
          },
          "metadata": {},
          "execution_count": 95
        }
      ]
    },
    {
      "cell_type": "code",
      "source": [
        "m1 = Regression.coef_[0]\n",
        "m2 = Regression.coef_[1]\n",
        "m3 = Regression.coef_[2]\n",
        "m4 = Regression.coef_[3]\n",
        "m5 = Regression.coef_[4]\n",
        "m6 = Regression.coef_[5]\n",
        "m7 = Regression.coef_[6]\n",
        "b = Regression.intercept_\n",
        "# these are the variables that define the slope\n",
        "print(\"formula: y = {:.2f}*Length(mm) + {:.2f}*Diameter(mm) + {:.2f}*Height(mm) + {:.2f}*Whole Weight(gr) + {:.2f}*Shucked Weight(gr) + {:.2f}*Viscera Weight(gr) + {:.2f}*Shell Weight(gr) + {:.2f}\".format(m1,m2,m3,m4,m5,m6,m7,b))"
      ],
      "metadata": {
        "colab": {
          "base_uri": "https://localhost:8080/"
        },
        "id": "mWhpVwCwQq-V",
        "outputId": "e2a7c88e-e5de-4ee9-e0fe-2809db81094d"
      },
      "execution_count": 96,
      "outputs": [
        {
          "output_type": "stream",
          "name": "stdout",
          "text": [
            "formula: y = -0.18*Length(mm) + 1.32*Diameter(mm) + 0.50*Height(mm) + 4.53*Whole Weight(gr) + -4.49*Shucked Weight(gr) + -1.08*Viscera Weight(gr) + 1.20*Shell Weight(gr) + 11.43\n"
          ]
        }
      ]
    },
    {
      "cell_type": "code",
      "source": [
        "# In order to Adress the MAE and the MSE we need to ser a variable for our predictions, to save them, so that the model could use the results to calculate these errors\n",
        "Predictions = Regression.predict(XAge)\n",
        "Predictions\n",
        "# it should return a 1 d numpy array with the predictions"
      ],
      "metadata": {
        "colab": {
          "base_uri": "https://localhost:8080/"
        },
        "id": "d3l4-C_wUYRw",
        "outputId": "1b9e6a62-957f-4179-ecda-2fed18541445"
      },
      "execution_count": 97,
      "outputs": [
        {
          "output_type": "execute_result",
          "data": {
            "text/plain": [
              "array([ 8.73511859, 12.34265211, 10.76886354, ..., 12.38315987,\n",
              "       11.11609597, 12.54151169])"
            ]
          },
          "metadata": {},
          "execution_count": 97
        }
      ]
    },
    {
      "cell_type": "code",
      "source": [
        "mean_absolute_error(yAge, Predictions)"
      ],
      "metadata": {
        "colab": {
          "base_uri": "https://localhost:8080/"
        },
        "id": "JwbJFLI1VpQz",
        "outputId": "9dc7e08e-af84-4c3c-aad3-aeb51255cf4a"
      },
      "execution_count": 98,
      "outputs": [
        {
          "output_type": "execute_result",
          "data": {
            "text/plain": [
              "1.6076280277596602"
            ]
          },
          "metadata": {},
          "execution_count": 98
        }
      ]
    },
    {
      "cell_type": "code",
      "source": [
        "mean_squared_error(yAge,Regression.predict(XAge))"
      ],
      "metadata": {
        "colab": {
          "base_uri": "https://localhost:8080/"
        },
        "id": "UxbzZyB8V1eS",
        "outputId": "d3e3eab1-1150-4697-bcfd-f89ff12bb810"
      },
      "execution_count": 99,
      "outputs": [
        {
          "output_type": "execute_result",
          "data": {
            "text/plain": [
              "4.901136499763453"
            ]
          },
          "metadata": {},
          "execution_count": 99
        }
      ]
    },
    {
      "cell_type": "code",
      "source": [
        "np.sqrt(mean_squared_error(yAge,Regression.predict(XAge)))"
      ],
      "metadata": {
        "colab": {
          "base_uri": "https://localhost:8080/"
        },
        "id": "nFeHLY8FWfjr",
        "outputId": "7ff9ae1f-5a67-4bda-bcd1-51f8536a42e8"
      },
      "execution_count": 100,
      "outputs": [
        {
          "output_type": "execute_result",
          "data": {
            "text/plain": [
              "2.2138510563638767"
            ]
          },
          "metadata": {},
          "execution_count": 100
        }
      ]
    },
    {
      "cell_type": "markdown",
      "source": [
        "# KNN Splited Dataframe"
      ],
      "metadata": {
        "id": "6DHGHHDmWIV-"
      }
    },
    {
      "cell_type": "code",
      "source": [
        "from sklearn.model_selection import train_test_split"
      ],
      "metadata": {
        "id": "fURcq_i5WL5Y"
      },
      "execution_count": 101,
      "outputs": []
    },
    {
      "cell_type": "code",
      "source": [
        "X_train, X_test, y_train, y_test = train_test_split(XAge, yAge, random_state=3)"
      ],
      "metadata": {
        "id": "NZslankCWTM-"
      },
      "execution_count": 102,
      "outputs": []
    },
    {
      "cell_type": "code",
      "source": [
        "scaler = StandardScaler()\n",
        "scaler.fit(X_train)\n",
        "X_train = scaler.transform(X_train)\n",
        "X_test = scaler.transform(X_test)"
      ],
      "metadata": {
        "id": "QpW47KUjWcBw"
      },
      "execution_count": 103,
      "outputs": []
    },
    {
      "cell_type": "code",
      "source": [
        "KnnAge.fit(X_train, y_train)"
      ],
      "metadata": {
        "colab": {
          "base_uri": "https://localhost:8080/"
        },
        "id": "ZyFcw54PXKok",
        "outputId": "97e11141-a15f-42cd-9004-bb87ce67113f"
      },
      "execution_count": 104,
      "outputs": [
        {
          "output_type": "execute_result",
          "data": {
            "text/plain": [
              "KNeighborsRegressor()"
            ]
          },
          "metadata": {},
          "execution_count": 104
        }
      ]
    },
    {
      "cell_type": "code",
      "source": [
        "SplitPredictions = KnnAge.predict(X_train)\n",
        "SplitPredictions"
      ],
      "metadata": {
        "colab": {
          "base_uri": "https://localhost:8080/"
        },
        "id": "dVZiSgL0Xa-G",
        "outputId": "bbc25801-4a34-41e2-be96-c2ae061478b1"
      },
      "execution_count": 105,
      "outputs": [
        {
          "output_type": "execute_result",
          "data": {
            "text/plain": [
              "array([10.9, 11.7, 11.5, ..., 12.1, 13.1, 11.5])"
            ]
          },
          "metadata": {},
          "execution_count": 105
        }
      ]
    },
    {
      "cell_type": "code",
      "source": [
        "KNNtest_predictions = KnnAge.predict(X_test)\n",
        "KNNtest_predictions"
      ],
      "metadata": {
        "colab": {
          "base_uri": "https://localhost:8080/"
        },
        "id": "hPtOxA0SXrSt",
        "outputId": "681bec7e-a88a-40f6-d2b8-a5c43005e548"
      },
      "execution_count": 106,
      "outputs": [
        {
          "output_type": "execute_result",
          "data": {
            "text/plain": [
              "array([11.1, 13.1, 14.1, ...,  8.3,  8.5, 10.7])"
            ]
          },
          "metadata": {},
          "execution_count": 106
        }
      ]
    },
    {
      "cell_type": "code",
      "source": [
        "# Train\n",
        "KNNSplitscore = KnnAge.score(X_train, y_train)\n",
        "KNNSplitscore"
      ],
      "metadata": {
        "colab": {
          "base_uri": "https://localhost:8080/"
        },
        "outputId": "29d0e4a5-7f84-41c6-a8c8-a9e1d933c5d2",
        "id": "UT0BN1ImSf8k"
      },
      "execution_count": 123,
      "outputs": [
        {
          "output_type": "execute_result",
          "data": {
            "text/plain": [
              "0.6555512962081227"
            ]
          },
          "metadata": {},
          "execution_count": 123
        }
      ]
    },
    {
      "cell_type": "code",
      "source": [
        "# Test\n",
        "KNNSplitscore = KnnAge.score(X_test, y_test)\n",
        "KNNSplitscore"
      ],
      "metadata": {
        "colab": {
          "base_uri": "https://localhost:8080/"
        },
        "id": "dcyYpvBnX4VI",
        "outputId": "54108329-8069-4b9c-f53b-b7d6b97ab226"
      },
      "execution_count": 124,
      "outputs": [
        {
          "output_type": "execute_result",
          "data": {
            "text/plain": [
              "0.4714544304886764"
            ]
          },
          "metadata": {},
          "execution_count": 124
        }
      ]
    },
    {
      "cell_type": "code",
      "source": [
        "mean_absolute_error(y_test, KNNtest_predictions)"
      ],
      "metadata": {
        "colab": {
          "base_uri": "https://localhost:8080/"
        },
        "outputId": "7538541a-1e83-4104-d288-877f7f7bc4ca",
        "id": "xl3K3Jko59QG"
      },
      "execution_count": 108,
      "outputs": [
        {
          "output_type": "execute_result",
          "data": {
            "text/plain": [
              "1.5668582375478928"
            ]
          },
          "metadata": {},
          "execution_count": 108
        }
      ]
    },
    {
      "cell_type": "code",
      "source": [
        "mean_squared_error(y_test,KnnAge.predict(X_test))"
      ],
      "metadata": {
        "colab": {
          "base_uri": "https://localhost:8080/"
        },
        "outputId": "3cc97aa2-d4b2-4eef-df41-ffb194631256",
        "id": "t9juRJrA59Qg"
      },
      "execution_count": 109,
      "outputs": [
        {
          "output_type": "execute_result",
          "data": {
            "text/plain": [
              "4.6659386973180075"
            ]
          },
          "metadata": {},
          "execution_count": 109
        }
      ]
    },
    {
      "cell_type": "code",
      "source": [
        "np.sqrt(mean_squared_error(y_test,KnnAge.predict(X_test)))"
      ],
      "metadata": {
        "colab": {
          "base_uri": "https://localhost:8080/"
        },
        "outputId": "546cbc41-25cb-4eb9-e4e0-f3d6585dc825",
        "id": "rXEvOsOx59Qh"
      },
      "execution_count": 110,
      "outputs": [
        {
          "output_type": "execute_result",
          "data": {
            "text/plain": [
              "2.1600784007341045"
            ]
          },
          "metadata": {},
          "execution_count": 110
        }
      ]
    },
    {
      "cell_type": "markdown",
      "source": [
        "# Linear Regression Splited Data frame "
      ],
      "metadata": {
        "id": "uQ-73maFdA7h"
      }
    },
    {
      "cell_type": "code",
      "source": [
        "# Create the instance \n",
        "SplitRegression = LinearRegression(fit_intercept=True)\n",
        "# then execute the model for it to learn about the relation between X and y \n",
        "SplitRegression.fit(X_train, y_train)"
      ],
      "metadata": {
        "colab": {
          "base_uri": "https://localhost:8080/"
        },
        "outputId": "d3b1456d-f543-4b05-b757-97c1a49308ec",
        "id": "MgQ52ETOc0nX"
      },
      "execution_count": 111,
      "outputs": [
        {
          "output_type": "execute_result",
          "data": {
            "text/plain": [
              "LinearRegression()"
            ]
          },
          "metadata": {},
          "execution_count": 111
        }
      ]
    },
    {
      "cell_type": "code",
      "source": [
        "# this returns us the result of what will the price be by the change of one unit on each of the variables\n",
        "# here the Model learns the parameters to define the linear ecuation that we graphic before and will help us predict future values\n",
        "SplitRegression.predict(X_train[0].reshape(-1,7))\n",
        "# -1 infer the number of rows\n",
        "# in the reshape step we need to tell the model the shape of the array in order for it to predict, otherwise, it will consider a one feature array \n",
        "# and shoot an error cause we actually inserted a 3 feature array "
      ],
      "metadata": {
        "colab": {
          "base_uri": "https://localhost:8080/"
        },
        "outputId": "7b2e8412-5985-43f7-c0a9-d64f6dcc79e7",
        "id": "N7KzBf6Mc0na"
      },
      "execution_count": 112,
      "outputs": [
        {
          "output_type": "execute_result",
          "data": {
            "text/plain": [
              "array([11.52529996])"
            ]
          },
          "metadata": {},
          "execution_count": 112
        }
      ]
    },
    {
      "cell_type": "code",
      "source": [
        "# This returns us an array of what the prices would be in the first 10 samples\n",
        "SplitRegression.predict(X_train[0:10])"
      ],
      "metadata": {
        "colab": {
          "base_uri": "https://localhost:8080/"
        },
        "outputId": "a3197a64-7f1a-4570-e02f-0ac3b7f4405d",
        "id": "JjQVgduHc0nb"
      },
      "execution_count": 113,
      "outputs": [
        {
          "output_type": "execute_result",
          "data": {
            "text/plain": [
              "array([11.52529996, 11.25098434, 10.3650196 , 11.66825013, 15.12209708,\n",
              "       15.68616373, 14.64316165, 11.65829531,  7.26465979, 17.54330077])"
            ]
          },
          "metadata": {},
          "execution_count": 113
        }
      ]
    },
    {
      "cell_type": "code",
      "source": [
        "# Train \n",
        "Split_LR_score = Regression.score(X_train, y_train)\n",
        "print(Split_LR_score)"
      ],
      "metadata": {
        "colab": {
          "base_uri": "https://localhost:8080/"
        },
        "outputId": "2d11818c-2723-4880-83c4-570aa7186d22",
        "id": "igtGWQCQc0nc"
      },
      "execution_count": 114,
      "outputs": [
        {
          "output_type": "stream",
          "name": "stdout",
          "text": [
            "0.5269238892658437\n"
          ]
        }
      ]
    },
    {
      "cell_type": "code",
      "source": [
        "# Test\n",
        "Split_LR_score = Regression.score(X_test, y_test)\n",
        "print(Split_LR_score)"
      ],
      "metadata": {
        "colab": {
          "base_uri": "https://localhost:8080/"
        },
        "outputId": "eea6dc2b-9025-4da7-90e2-6952ebab14b6",
        "id": "cFLFtEt0SNPj"
      },
      "execution_count": 122,
      "outputs": [
        {
          "output_type": "stream",
          "name": "stdout",
          "text": [
            "0.5247078403117267\n"
          ]
        }
      ]
    },
    {
      "cell_type": "code",
      "source": [
        "# returns the slope of each evaluated X\n",
        "SplitRegression.coef_\n",
        "# underscore means that you cant access the attribute until after the model is already fitted"
      ],
      "metadata": {
        "colab": {
          "base_uri": "https://localhost:8080/"
        },
        "outputId": "524eb1c2-6682-47fa-a5ee-dcf2b2a4580b",
        "id": "xh0ZChyic0nd"
      },
      "execution_count": 115,
      "outputs": [
        {
          "output_type": "execute_result",
          "data": {
            "text/plain": [
              "array([-0.34002557,  1.4807177 ,  0.44245294,  4.58070382, -4.57244422,\n",
              "       -0.99243926,  1.23543184])"
            ]
          },
          "metadata": {},
          "execution_count": 115
        }
      ]
    },
    {
      "cell_type": "code",
      "source": [
        "SplitRegression.intercept_"
      ],
      "metadata": {
        "colab": {
          "base_uri": "https://localhost:8080/"
        },
        "outputId": "252b198e-b3cd-41d6-87a5-3f21cd681563",
        "id": "MBg1eOhCc0ne"
      },
      "execution_count": 116,
      "outputs": [
        {
          "output_type": "execute_result",
          "data": {
            "text/plain": [
              "11.53448275862069"
            ]
          },
          "metadata": {},
          "execution_count": 116
        }
      ]
    },
    {
      "cell_type": "code",
      "source": [
        "# In order to Adress the MAE and the MSE we need to ser a variable for our predictions, to save them, so that the model could use the results to calculate these errors\n",
        "Split_LR_Predictions = Regression.predict(X_test)\n",
        "Predictions"
      ],
      "metadata": {
        "colab": {
          "base_uri": "https://localhost:8080/"
        },
        "outputId": "aa4d5801-2bfb-4d3b-b7e3-cee2c5905568",
        "id": "YHYQjF6yc0nf"
      },
      "execution_count": 117,
      "outputs": [
        {
          "output_type": "execute_result",
          "data": {
            "text/plain": [
              "array([ 8.73511859, 12.34265211, 10.76886354, ..., 12.38315987,\n",
              "       11.11609597, 12.54151169])"
            ]
          },
          "metadata": {},
          "execution_count": 117
        }
      ]
    },
    {
      "cell_type": "code",
      "source": [
        "mean_absolute_error(y_test, Split_LR_Predictions)"
      ],
      "metadata": {
        "colab": {
          "base_uri": "https://localhost:8080/"
        },
        "outputId": "c846b701-e866-4593-94c5-1c0847f61550",
        "id": "Q4I-Jmg2c0ng"
      },
      "execution_count": 118,
      "outputs": [
        {
          "output_type": "execute_result",
          "data": {
            "text/plain": [
              "1.5169610272329754"
            ]
          },
          "metadata": {},
          "execution_count": 118
        }
      ]
    },
    {
      "cell_type": "code",
      "source": [
        "mean_squared_error(y_test,SplitRegression.predict(X_test))"
      ],
      "metadata": {
        "colab": {
          "base_uri": "https://localhost:8080/"
        },
        "outputId": "b5ba4b41-fe56-40fb-a1ac-f7850d86a447",
        "id": "qMJwGk2Kc0nh"
      },
      "execution_count": 119,
      "outputs": [
        {
          "output_type": "execute_result",
          "data": {
            "text/plain": [
              "4.2481699256072805"
            ]
          },
          "metadata": {},
          "execution_count": 119
        }
      ]
    },
    {
      "cell_type": "code",
      "source": [
        "np.sqrt(mean_squared_error(y_test,SplitRegression.predict(X_test)))"
      ],
      "metadata": {
        "colab": {
          "base_uri": "https://localhost:8080/"
        },
        "outputId": "265f6726-a4f1-428a-dff5-6c8da65f91f7",
        "id": "sBTGfJXrc0ni"
      },
      "execution_count": 120,
      "outputs": [
        {
          "output_type": "execute_result",
          "data": {
            "text/plain": [
              "2.0611089067798627"
            ]
          },
          "metadata": {},
          "execution_count": 120
        }
      ]
    },
    {
      "cell_type": "markdown",
      "source": [
        "# Summary Score and Errors\n",
        "\n",
        "## Without Split \n",
        "\n",
        "### **KNN**\n",
        "### **Score: 0.6582492859136977**\n",
        "### **Mean Absolute Error: 1.3319444444444444**\n",
        "### **Mean SQuared Error: 3.9313601532567053**\n",
        "\n",
        "\n",
        "### Linear Regression\n",
        "### Score: 0.5282432555640287\n",
        "### Mean Absolute Error: 1.6076280277596602\n",
        "### Mean SQuared Error: 4.901136499763453\n",
        "\n",
        "\n",
        "## With Split\n",
        "\n",
        "### KNN\n",
        "### Score: 0.4714544304886764\n",
        "### Mean Absolute Error: 1.5668582375478928\n",
        "### Mean SQuared Error: 4.6659386973180075\n",
        "\n",
        "\n",
        "### Linear Regression\n",
        "### Score: 0.5247078403117267\n",
        "### Mean Absolute Error: 4.2481699256072805\n",
        "### Mean SQuared Error:4.2481699256072805\n"
      ],
      "metadata": {
        "id": "otovNAq56dca"
      }
    },
    {
      "cell_type": "markdown",
      "source": [
        "\n",
        "# **¿Cuál de KNN o regresión lineal pareció un mejor modelo cuando no usaste la división entrenar probar?**\n",
        "### KNN ya que el R2 es superior y por lo tanto un mayor acierto del modelo\n",
        "\n",
        "# **¿Cuál de KNN o regresión lineal pareció un mejor modelo cuando usaste la división entrenar probar?**\n",
        "### Linear Regression ya que el R2 es superior y por lo tanto un mayor acierto del modelo adicionalmente, el modelo de Linear Regression esta menos over fitted que el KNN comparando el R2 de los Train y Test analisis.\n",
        "\n",
        "# **¿Hubo alguna ventaja en la regresión lineal en términos de la cantidad de código que tenías que escribir?**\n",
        "### En regresion lineal no hay necesidad de escalar\n",
        "\n",
        "# **¿Hay alguna forma de mostrarle a alguien cuál de los dos modelos fue más efectivo?**\n",
        "### En efecto comparando los indicadores del R2 y el error absoluto medio, a mayor r cuadrado y menor error mejor sera el modelo. \n",
        "\n",
        "# **¿Crees que podrías haber mejorado KNN para mejorar la eficacia del modelo?**\n",
        "\n",
        "### El modelo de KNN se puede mejorar encontrando el numero mas adecuado a ser asignado al N numero de vecinos mas cercanos"
      ],
      "metadata": {
        "id": "IDFZ04U4QyQI"
      }
    }
  ]
}